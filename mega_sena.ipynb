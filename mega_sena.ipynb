{
 "cells": [
  {
   "cell_type": "code",
   "execution_count": 19,
   "metadata": {},
   "outputs": [],
   "source": [
    "import pandas as pd\n",
    "import numpy as np\n",
    "import matplotlib.pyplot as plt"
   ]
  },
  {
   "cell_type": "code",
   "execution_count": 20,
   "metadata": {},
   "outputs": [],
   "source": [
    "df = pd.read_csv('./results.csv',index_col=False,names=['draw','date','num1','num2','num3','num4','num5','num6'])"
   ]
  },
  {
   "cell_type": "code",
   "execution_count": 21,
   "metadata": {},
   "outputs": [
    {
     "data": {
      "text/plain": [
       "(2514, 8)"
      ]
     },
     "execution_count": 21,
     "metadata": {},
     "output_type": "execute_result"
    }
   ],
   "source": [
    "#Checking df size\n",
    "df.shape"
   ]
  },
  {
   "cell_type": "code",
   "execution_count": 22,
   "metadata": {},
   "outputs": [],
   "source": [
    "# Droping duplicated rows\n",
    "df.drop_duplicates(subset=['draw','num1','num2','num3','num4','num5','num6'],keep='first',inplace=True)"
   ]
  },
  {
   "cell_type": "code",
   "execution_count": 23,
   "metadata": {
    "scrolled": true
   },
   "outputs": [
    {
     "data": {
      "text/html": [
       "<div>\n",
       "<style scoped>\n",
       "    .dataframe tbody tr th:only-of-type {\n",
       "        vertical-align: middle;\n",
       "    }\n",
       "\n",
       "    .dataframe tbody tr th {\n",
       "        vertical-align: top;\n",
       "    }\n",
       "\n",
       "    .dataframe thead th {\n",
       "        text-align: right;\n",
       "    }\n",
       "</style>\n",
       "<table border=\"1\" class=\"dataframe\">\n",
       "  <thead>\n",
       "    <tr style=\"text-align: right;\">\n",
       "      <th></th>\n",
       "      <th>draw</th>\n",
       "      <th>date</th>\n",
       "      <th>num1</th>\n",
       "      <th>num2</th>\n",
       "      <th>num3</th>\n",
       "      <th>num4</th>\n",
       "      <th>num5</th>\n",
       "      <th>num6</th>\n",
       "    </tr>\n",
       "  </thead>\n",
       "  <tbody>\n",
       "    <tr>\n",
       "      <th>521</th>\n",
       "      <td>1686</td>\n",
       "      <td>(14/03/2015)</td>\n",
       "      <td>9</td>\n",
       "      <td>14</td>\n",
       "      <td>37</td>\n",
       "      <td>44</td>\n",
       "      <td>46</td>\n",
       "      <td>55</td>\n",
       "    </tr>\n",
       "    <tr>\n",
       "      <th>540</th>\n",
       "      <td>1667</td>\n",
       "      <td>(07/01/2015)</td>\n",
       "      <td>7</td>\n",
       "      <td>12</td>\n",
       "      <td>24</td>\n",
       "      <td>44</td>\n",
       "      <td>51</td>\n",
       "      <td>56</td>\n",
       "    </tr>\n",
       "    <tr>\n",
       "      <th>541</th>\n",
       "      <td>1666</td>\n",
       "      <td>(03/01/2015)</td>\n",
       "      <td>1</td>\n",
       "      <td>2</td>\n",
       "      <td>23</td>\n",
       "      <td>27</td>\n",
       "      <td>45</td>\n",
       "      <td>51</td>\n",
       "    </tr>\n",
       "    <tr>\n",
       "      <th>647</th>\n",
       "      <td>1560</td>\n",
       "      <td>(31/12/2013)</td>\n",
       "      <td>20</td>\n",
       "      <td>30</td>\n",
       "      <td>36</td>\n",
       "      <td>38</td>\n",
       "      <td>47</td>\n",
       "      <td>53</td>\n",
       "    </tr>\n",
       "    <tr>\n",
       "      <th>827</th>\n",
       "      <td>1686</td>\n",
       "      <td>(14/03/2015)</td>\n",
       "      <td>9</td>\n",
       "      <td>14</td>\n",
       "      <td>37</td>\n",
       "      <td>44</td>\n",
       "      <td>46</td>\n",
       "      <td>55</td>\n",
       "    </tr>\n",
       "    <tr>\n",
       "      <th>847</th>\n",
       "      <td>1667</td>\n",
       "      <td>07/01/2015</td>\n",
       "      <td>07</td>\n",
       "      <td>12</td>\n",
       "      <td>24</td>\n",
       "      <td>44</td>\n",
       "      <td>51</td>\n",
       "      <td>56</td>\n",
       "    </tr>\n",
       "    <tr>\n",
       "      <th>848</th>\n",
       "      <td>1666</td>\n",
       "      <td>03/01/2015</td>\n",
       "      <td>01</td>\n",
       "      <td>02</td>\n",
       "      <td>23</td>\n",
       "      <td>27</td>\n",
       "      <td>45</td>\n",
       "      <td>51</td>\n",
       "    </tr>\n",
       "    <tr>\n",
       "      <th>954</th>\n",
       "      <td>1560</td>\n",
       "      <td>(31/12/2013)</td>\n",
       "      <td>20</td>\n",
       "      <td>30</td>\n",
       "      <td>36</td>\n",
       "      <td>38</td>\n",
       "      <td>47</td>\n",
       "      <td>53</td>\n",
       "    </tr>\n",
       "  </tbody>\n",
       "</table>\n",
       "</div>"
      ],
      "text/plain": [
       "     draw          date num1 num2 num3 num4 num5  num6\n",
       "521  1686  (14/03/2015)    9   14   37   44   46    55\n",
       "540  1667  (07/01/2015)    7   12   24   44   51    56\n",
       "541  1666  (03/01/2015)    1    2   23   27   45    51\n",
       "647  1560  (31/12/2013)   20   30   36   38   47    53\n",
       "827  1686  (14/03/2015)    9   14   37   44   46  55  \n",
       "847  1667   07/01/2015   07   12   24   44   51     56\n",
       "848  1666   03/01/2015   01   02   23   27   45     51\n",
       "954  1560  (31/12/2013)   20   30   36   38   47   53 "
      ]
     },
     "execution_count": 23,
     "metadata": {},
     "output_type": "execute_result"
    }
   ],
   "source": [
    "#Checking rows with duplicated draw number\n",
    "df[df['draw'].duplicated(keep=False)]"
   ]
  },
  {
   "cell_type": "code",
   "execution_count": 24,
   "metadata": {},
   "outputs": [],
   "source": [
    "#Droping rows with duplicated draw number\n",
    "df.drop_duplicates(subset=['draw'],keep='first',inplace=True)"
   ]
  },
  {
   "cell_type": "code",
   "execution_count": 25,
   "metadata": {},
   "outputs": [
    {
     "data": {
      "text/plain": [
       "(2108, 8)"
      ]
     },
     "execution_count": 25,
     "metadata": {},
     "output_type": "execute_result"
    }
   ],
   "source": [
    "#Checking df size after removing duplicates\n",
    "df.shape"
   ]
  },
  {
   "cell_type": "code",
   "execution_count": 26,
   "metadata": {},
   "outputs": [
    {
     "data": {
      "text/plain": [
       "draw    object\n",
       "date    object\n",
       "num1    object\n",
       "num2    object\n",
       "num3    object\n",
       "num4    object\n",
       "num5    object\n",
       "num6    object\n",
       "dtype: object"
      ]
     },
     "execution_count": 26,
     "metadata": {},
     "output_type": "execute_result"
    }
   ],
   "source": [
    "# Checking data types\n",
    "df.dtypes"
   ]
  },
  {
   "cell_type": "code",
   "execution_count": 27,
   "metadata": {},
   "outputs": [],
   "source": [
    "#Convert columns dtypes to int\n",
    "for col in df.columns:\n",
    "    if col not in ('date','draw'): \n",
    "        df[col].replace(\"[^0-9]\",\"\", regex=True,inplace=True) \n",
    "        df[col] = df[col].apply(pd.to_numeric)"
   ]
  },
  {
   "cell_type": "code",
   "execution_count": 28,
   "metadata": {},
   "outputs": [
    {
     "data": {
      "text/plain": [
       "draw    object\n",
       "date    object\n",
       "num1     int64\n",
       "num2     int64\n",
       "num3     int64\n",
       "num4     int64\n",
       "num5     int64\n",
       "num6     int64\n",
       "dtype: object"
      ]
     },
     "execution_count": 28,
     "metadata": {},
     "output_type": "execute_result"
    }
   ],
   "source": [
    "# Checking data types\n",
    "df.dtypes"
   ]
  },
  {
   "cell_type": "code",
   "execution_count": 29,
   "metadata": {},
   "outputs": [
    {
     "data": {
      "text/html": [
       "<div>\n",
       "<style scoped>\n",
       "    .dataframe tbody tr th:only-of-type {\n",
       "        vertical-align: middle;\n",
       "    }\n",
       "\n",
       "    .dataframe tbody tr th {\n",
       "        vertical-align: top;\n",
       "    }\n",
       "\n",
       "    .dataframe thead th {\n",
       "        text-align: right;\n",
       "    }\n",
       "</style>\n",
       "<table border=\"1\" class=\"dataframe\">\n",
       "  <thead>\n",
       "    <tr style=\"text-align: right;\">\n",
       "      <th></th>\n",
       "      <th>draw</th>\n",
       "      <th>date</th>\n",
       "      <th>num1</th>\n",
       "      <th>num2</th>\n",
       "      <th>num3</th>\n",
       "      <th>num4</th>\n",
       "      <th>num5</th>\n",
       "      <th>num6</th>\n",
       "    </tr>\n",
       "  </thead>\n",
       "  <tbody>\n",
       "    <tr>\n",
       "      <th>0</th>\n",
       "      <td>2107</td>\n",
       "      <td>(15/12/2018)</td>\n",
       "      <td>8</td>\n",
       "      <td>38</td>\n",
       "      <td>44</td>\n",
       "      <td>50</td>\n",
       "      <td>56</td>\n",
       "      <td>60</td>\n",
       "    </tr>\n",
       "    <tr>\n",
       "      <th>1</th>\n",
       "      <td>2106</td>\n",
       "      <td>(12/12/2018)</td>\n",
       "      <td>3</td>\n",
       "      <td>27</td>\n",
       "      <td>36</td>\n",
       "      <td>39</td>\n",
       "      <td>40</td>\n",
       "      <td>43</td>\n",
       "    </tr>\n",
       "    <tr>\n",
       "      <th>2</th>\n",
       "      <td>2105</td>\n",
       "      <td>(08/12/2018)</td>\n",
       "      <td>11</td>\n",
       "      <td>13</td>\n",
       "      <td>16</td>\n",
       "      <td>24</td>\n",
       "      <td>31</td>\n",
       "      <td>46</td>\n",
       "    </tr>\n",
       "    <tr>\n",
       "      <th>3</th>\n",
       "      <td>2104</td>\n",
       "      <td>(06/12/2018)</td>\n",
       "      <td>2</td>\n",
       "      <td>10</td>\n",
       "      <td>12</td>\n",
       "      <td>27</td>\n",
       "      <td>45</td>\n",
       "      <td>56</td>\n",
       "    </tr>\n",
       "    <tr>\n",
       "      <th>4</th>\n",
       "      <td>2103</td>\n",
       "      <td>(04/12/2018)</td>\n",
       "      <td>3</td>\n",
       "      <td>13</td>\n",
       "      <td>40</td>\n",
       "      <td>44</td>\n",
       "      <td>46</td>\n",
       "      <td>50</td>\n",
       "    </tr>\n",
       "  </tbody>\n",
       "</table>\n",
       "</div>"
      ],
      "text/plain": [
       "   draw          date  num1  num2  num3  num4  num5  num6\n",
       "0  2107  (15/12/2018)     8    38    44    50    56    60\n",
       "1  2106  (12/12/2018)     3    27    36    39    40    43\n",
       "2  2105  (08/12/2018)    11    13    16    24    31    46\n",
       "3  2104  (06/12/2018)     2    10    12    27    45    56\n",
       "4  2103  (04/12/2018)     3    13    40    44    46    50"
      ]
     },
     "execution_count": 29,
     "metadata": {},
     "output_type": "execute_result"
    }
   ],
   "source": [
    "# Checking first rows\n",
    "df.head()"
   ]
  },
  {
   "cell_type": "code",
   "execution_count": 30,
   "metadata": {
    "scrolled": true
   },
   "outputs": [
    {
     "data": {
      "text/html": [
       "<div>\n",
       "<style scoped>\n",
       "    .dataframe tbody tr th:only-of-type {\n",
       "        vertical-align: middle;\n",
       "    }\n",
       "\n",
       "    .dataframe tbody tr th {\n",
       "        vertical-align: top;\n",
       "    }\n",
       "\n",
       "    .dataframe thead th {\n",
       "        text-align: right;\n",
       "    }\n",
       "</style>\n",
       "<table border=\"1\" class=\"dataframe\">\n",
       "  <thead>\n",
       "    <tr style=\"text-align: right;\">\n",
       "      <th></th>\n",
       "      <th>num1</th>\n",
       "      <th>num2</th>\n",
       "      <th>num3</th>\n",
       "      <th>num4</th>\n",
       "      <th>num5</th>\n",
       "      <th>num6</th>\n",
       "    </tr>\n",
       "  </thead>\n",
       "  <tbody>\n",
       "    <tr>\n",
       "      <th>count</th>\n",
       "      <td>2108.000000</td>\n",
       "      <td>2108.000000</td>\n",
       "      <td>2108.000000</td>\n",
       "      <td>2108.000000</td>\n",
       "      <td>2108.000000</td>\n",
       "      <td>2108.000000</td>\n",
       "    </tr>\n",
       "    <tr>\n",
       "      <th>mean</th>\n",
       "      <td>8.588235</td>\n",
       "      <td>17.213947</td>\n",
       "      <td>26.180740</td>\n",
       "      <td>34.961101</td>\n",
       "      <td>43.543169</td>\n",
       "      <td>52.268027</td>\n",
       "    </tr>\n",
       "    <tr>\n",
       "      <th>std</th>\n",
       "      <td>7.048432</td>\n",
       "      <td>9.155528</td>\n",
       "      <td>10.014847</td>\n",
       "      <td>9.884449</td>\n",
       "      <td>9.091088</td>\n",
       "      <td>6.876618</td>\n",
       "    </tr>\n",
       "    <tr>\n",
       "      <th>min</th>\n",
       "      <td>1.000000</td>\n",
       "      <td>2.000000</td>\n",
       "      <td>3.000000</td>\n",
       "      <td>8.000000</td>\n",
       "      <td>11.000000</td>\n",
       "      <td>22.000000</td>\n",
       "    </tr>\n",
       "    <tr>\n",
       "      <th>25%</th>\n",
       "      <td>3.000000</td>\n",
       "      <td>10.000000</td>\n",
       "      <td>19.000000</td>\n",
       "      <td>28.000000</td>\n",
       "      <td>38.000000</td>\n",
       "      <td>49.000000</td>\n",
       "    </tr>\n",
       "    <tr>\n",
       "      <th>50%</th>\n",
       "      <td>7.000000</td>\n",
       "      <td>16.000000</td>\n",
       "      <td>26.000000</td>\n",
       "      <td>35.000000</td>\n",
       "      <td>45.000000</td>\n",
       "      <td>54.000000</td>\n",
       "    </tr>\n",
       "    <tr>\n",
       "      <th>75%</th>\n",
       "      <td>12.000000</td>\n",
       "      <td>23.000000</td>\n",
       "      <td>33.000000</td>\n",
       "      <td>42.000000</td>\n",
       "      <td>51.000000</td>\n",
       "      <td>58.000000</td>\n",
       "    </tr>\n",
       "    <tr>\n",
       "      <th>max</th>\n",
       "      <td>50.000000</td>\n",
       "      <td>51.000000</td>\n",
       "      <td>56.000000</td>\n",
       "      <td>58.000000</td>\n",
       "      <td>59.000000</td>\n",
       "      <td>60.000000</td>\n",
       "    </tr>\n",
       "  </tbody>\n",
       "</table>\n",
       "</div>"
      ],
      "text/plain": [
       "              num1         num2         num3         num4         num5  \\\n",
       "count  2108.000000  2108.000000  2108.000000  2108.000000  2108.000000   \n",
       "mean      8.588235    17.213947    26.180740    34.961101    43.543169   \n",
       "std       7.048432     9.155528    10.014847     9.884449     9.091088   \n",
       "min       1.000000     2.000000     3.000000     8.000000    11.000000   \n",
       "25%       3.000000    10.000000    19.000000    28.000000    38.000000   \n",
       "50%       7.000000    16.000000    26.000000    35.000000    45.000000   \n",
       "75%      12.000000    23.000000    33.000000    42.000000    51.000000   \n",
       "max      50.000000    51.000000    56.000000    58.000000    59.000000   \n",
       "\n",
       "              num6  \n",
       "count  2108.000000  \n",
       "mean     52.268027  \n",
       "std       6.876618  \n",
       "min      22.000000  \n",
       "25%      49.000000  \n",
       "50%      54.000000  \n",
       "75%      58.000000  \n",
       "max      60.000000  "
      ]
     },
     "execution_count": 30,
     "metadata": {},
     "output_type": "execute_result"
    }
   ],
   "source": [
    "#cheking max, min for each int col\n",
    "df.describe()"
   ]
  },
  {
   "cell_type": "markdown",
   "metadata": {},
   "source": [
    "## Number frequency"
   ]
  },
  {
   "cell_type": "code",
   "execution_count": 31,
   "metadata": {},
   "outputs": [
    {
     "data": {
      "text/plain": [
       "2108.0"
      ]
     },
     "execution_count": 31,
     "metadata": {},
     "output_type": "execute_result"
    }
   ],
   "source": [
    "# save all numbers in a list\n",
    "all_numbers = [] \n",
    "for col in df.select_dtypes(include='int64'):\n",
    "    all_numbers.extend(df[col])\n",
    "#check size\n",
    "len(all_numbers)/6"
   ]
  },
  {
   "cell_type": "code",
   "execution_count": 32,
   "metadata": {},
   "outputs": [],
   "source": [
    "#save list in pandas df\n",
    "numbers_df = pd.DataFrame(all_numbers,columns=['numbers'])"
   ]
  },
  {
   "cell_type": "code",
   "execution_count": 33,
   "metadata": {},
   "outputs": [
    {
     "data": {
      "text/html": [
       "<div>\n",
       "<style scoped>\n",
       "    .dataframe tbody tr th:only-of-type {\n",
       "        vertical-align: middle;\n",
       "    }\n",
       "\n",
       "    .dataframe tbody tr th {\n",
       "        vertical-align: top;\n",
       "    }\n",
       "\n",
       "    .dataframe thead th {\n",
       "        text-align: right;\n",
       "    }\n",
       "</style>\n",
       "<table border=\"1\" class=\"dataframe\">\n",
       "  <thead>\n",
       "    <tr style=\"text-align: right;\">\n",
       "      <th></th>\n",
       "      <th>numbers</th>\n",
       "    </tr>\n",
       "  </thead>\n",
       "  <tbody>\n",
       "    <tr>\n",
       "      <th>count</th>\n",
       "      <td>12648.000000</td>\n",
       "    </tr>\n",
       "    <tr>\n",
       "      <th>mean</th>\n",
       "      <td>30.459203</td>\n",
       "    </tr>\n",
       "    <tr>\n",
       "      <th>std</th>\n",
       "      <td>17.323039</td>\n",
       "    </tr>\n",
       "    <tr>\n",
       "      <th>min</th>\n",
       "      <td>1.000000</td>\n",
       "    </tr>\n",
       "    <tr>\n",
       "      <th>25%</th>\n",
       "      <td>15.000000</td>\n",
       "    </tr>\n",
       "    <tr>\n",
       "      <th>50%</th>\n",
       "      <td>31.000000</td>\n",
       "    </tr>\n",
       "    <tr>\n",
       "      <th>75%</th>\n",
       "      <td>45.000000</td>\n",
       "    </tr>\n",
       "    <tr>\n",
       "      <th>max</th>\n",
       "      <td>60.000000</td>\n",
       "    </tr>\n",
       "  </tbody>\n",
       "</table>\n",
       "</div>"
      ],
      "text/plain": [
       "            numbers\n",
       "count  12648.000000\n",
       "mean      30.459203\n",
       "std       17.323039\n",
       "min        1.000000\n",
       "25%       15.000000\n",
       "50%       31.000000\n",
       "75%       45.000000\n",
       "max       60.000000"
      ]
     },
     "execution_count": 33,
     "metadata": {},
     "output_type": "execute_result"
    }
   ],
   "source": [
    "#check max,min values\n",
    "numbers_df.describe()"
   ]
  },
  {
   "cell_type": "code",
   "execution_count": 34,
   "metadata": {},
   "outputs": [
    {
     "data": {
      "text/plain": [
       "'Most frequent numbers:'"
      ]
     },
     "metadata": {},
     "output_type": "display_data"
    },
    {
     "data": {
      "text/html": [
       "<div>\n",
       "<style scoped>\n",
       "    .dataframe tbody tr th:only-of-type {\n",
       "        vertical-align: middle;\n",
       "    }\n",
       "\n",
       "    .dataframe tbody tr th {\n",
       "        vertical-align: top;\n",
       "    }\n",
       "\n",
       "    .dataframe thead th {\n",
       "        text-align: right;\n",
       "    }\n",
       "</style>\n",
       "<table border=\"1\" class=\"dataframe\">\n",
       "  <thead>\n",
       "    <tr style=\"text-align: right;\">\n",
       "      <th></th>\n",
       "      <th>counts</th>\n",
       "      <th>percentage</th>\n",
       "    </tr>\n",
       "  </thead>\n",
       "  <tbody>\n",
       "    <tr>\n",
       "      <th>10</th>\n",
       "      <td>243</td>\n",
       "      <td>1.921252</td>\n",
       "    </tr>\n",
       "    <tr>\n",
       "      <th>5</th>\n",
       "      <td>240</td>\n",
       "      <td>1.897533</td>\n",
       "    </tr>\n",
       "    <tr>\n",
       "      <th>53</th>\n",
       "      <td>238</td>\n",
       "      <td>1.881720</td>\n",
       "    </tr>\n",
       "    <tr>\n",
       "      <th>4</th>\n",
       "      <td>233</td>\n",
       "      <td>1.842188</td>\n",
       "    </tr>\n",
       "    <tr>\n",
       "      <th>23</th>\n",
       "      <td>233</td>\n",
       "      <td>1.842188</td>\n",
       "    </tr>\n",
       "  </tbody>\n",
       "</table>\n",
       "</div>"
      ],
      "text/plain": [
       "    counts  percentage\n",
       "10     243    1.921252\n",
       "5      240    1.897533\n",
       "53     238    1.881720\n",
       "4      233    1.842188\n",
       "23     233    1.842188"
      ]
     },
     "metadata": {},
     "output_type": "display_data"
    },
    {
     "name": "stdout",
     "output_type": "stream",
     "text": [
      "\n",
      "\n"
     ]
    },
    {
     "data": {
      "text/plain": [
       "'Less frequent numbers:'"
      ]
     },
     "metadata": {},
     "output_type": "display_data"
    },
    {
     "data": {
      "text/html": [
       "<div>\n",
       "<style scoped>\n",
       "    .dataframe tbody tr th:only-of-type {\n",
       "        vertical-align: middle;\n",
       "    }\n",
       "\n",
       "    .dataframe tbody tr th {\n",
       "        vertical-align: top;\n",
       "    }\n",
       "\n",
       "    .dataframe thead th {\n",
       "        text-align: right;\n",
       "    }\n",
       "</style>\n",
       "<table border=\"1\" class=\"dataframe\">\n",
       "  <thead>\n",
       "    <tr style=\"text-align: right;\">\n",
       "      <th></th>\n",
       "      <th>counts</th>\n",
       "      <th>percentage</th>\n",
       "    </tr>\n",
       "  </thead>\n",
       "  <tbody>\n",
       "    <tr>\n",
       "      <th>9</th>\n",
       "      <td>188</td>\n",
       "      <td>1.486401</td>\n",
       "    </tr>\n",
       "    <tr>\n",
       "      <th>22</th>\n",
       "      <td>188</td>\n",
       "      <td>1.486401</td>\n",
       "    </tr>\n",
       "    <tr>\n",
       "      <th>55</th>\n",
       "      <td>181</td>\n",
       "      <td>1.431056</td>\n",
       "    </tr>\n",
       "    <tr>\n",
       "      <th>21</th>\n",
       "      <td>180</td>\n",
       "      <td>1.423150</td>\n",
       "    </tr>\n",
       "    <tr>\n",
       "      <th>26</th>\n",
       "      <td>171</td>\n",
       "      <td>1.351992</td>\n",
       "    </tr>\n",
       "  </tbody>\n",
       "</table>\n",
       "</div>"
      ],
      "text/plain": [
       "    counts  percentage\n",
       "9      188    1.486401\n",
       "22     188    1.486401\n",
       "55     181    1.431056\n",
       "21     180    1.423150\n",
       "26     171    1.351992"
      ]
     },
     "metadata": {},
     "output_type": "display_data"
    }
   ],
   "source": [
    "# Number frequency\n",
    "df_count = pd.concat([numbers_df['numbers'].value_counts(), \n",
    "                numbers_df['numbers'].value_counts(normalize=True).mul(100)],axis=1, keys=('counts','percentage'))\n",
    "display(\"Most frequent numbers:\",df_count.head())\n",
    "print(\"\\n\")\n",
    "display(\"Less frequent numbers:\",df_count.tail())"
   ]
  },
  {
   "cell_type": "markdown",
   "metadata": {},
   "source": [
    "### Ploting most and less frequent numbers:"
   ]
  },
  {
   "cell_type": "code",
   "execution_count": 35,
   "metadata": {},
   "outputs": [],
   "source": [
    "def list_to_string(list1):\n",
    "    return list(map(str, list1))"
   ]
  },
  {
   "cell_type": "code",
   "execution_count": 36,
   "metadata": {},
   "outputs": [],
   "source": [
    "## Grabing numbers:\n",
    "most_comon_index = df_count.head().index\n",
    "most_comon_counts = df_count.head()['percentage'].values\n",
    "less_comon_index = df_count.tail().index\n",
    "less_comon_counts = df_count.tail()['percentage'].values\n",
    "\n",
    "#reversing lists\n",
    "most_comon_index = most_comon_index[::-1]\n",
    "most_comon_counts = most_comon_counts[::-1]\n",
    "less_comon_index = less_comon_index[::-1]\n",
    "less_comon_counts = less_comon_counts[::-1]"
   ]
  },
  {
   "cell_type": "code",
   "execution_count": 37,
   "metadata": {},
   "outputs": [],
   "source": [
    "## concatenating x lables\n",
    "x_list = np.concatenate((less_comon_counts, most_comon_counts), axis=0)\n",
    "x_list = np.round(x_list, 2)"
   ]
  },
  {
   "cell_type": "code",
   "execution_count": 47,
   "metadata": {},
   "outputs": [
    {
     "data": {
      "image/png": "[encoded data removed]",
      "text/plain": [
       "<Figure size 432x288 with 1 Axes>"
      ]
     },
     "metadata": {
      "needs_background": "light"
     },
     "output_type": "display_data"
    }
   ],
   "source": [
    "barlist = plt.barh(list_to_string(less_comon_index),less_comon_counts,color='g',label='Bottom 5')\n",
    "barlist2 = plt.barh(list_to_string(most_comon_index),most_comon_counts,color='b',label='Top 5')\n",
    "\n",
    "\n",
    "plt.xlabel('% of Draws')\n",
    "plt.ylabel('Number')\n",
    "plt.title('Number Frequency')\n",
    "plt.legend()\n",
    "plt.tight_layout()\n",
    "ax = plt.gca()\n",
    "for i, v in enumerate(x_list):\n",
    "      ax.text(v-.3, i - .25, str(v)+'%', color='k', fontweight='bold',fontsize=15)\n",
    "plt.show()"
   ]
  },
  {
   "cell_type": "markdown",
   "metadata": {},
   "source": [
    "## Winning numbers histogram"
   ]
  },
  {
   "cell_type": "code",
   "execution_count": 39,
   "metadata": {},
   "outputs": [],
   "source": [
    "def single_histogram(list,y_lable,x_lable,bins_= None):\n",
    "    mu = str(round(np.mean(list),2))\n",
    "    sigma = str(round(np.std(list)))\n",
    "    mean= str(round(np.mean(list)))\n",
    "    x = list\n",
    "    # the histogram of the data\n",
    "    n, bins, patches = plt.hist(x, facecolor='b', alpha=0.75,bins=bins_)\n",
    "    print('mean=' + mean)\n",
    "    plt.xlabel(x_lable)\n",
    "    plt.ylabel(y_lable)\n",
    "    plt.title('Histogram of Mega-Sena ' + x_lable)\n",
    "    plt.text(max(list)/2,max(list)/1.1, r'$\\mu='+ mu +',\\ \\sigma=' + sigma + '$'\n",
    "             ,horizontalalignment='center',verticalalignment='center'\n",
    "             ,fontsize=20)\n",
    "#   plt.axis([40, 160, 0, 0.03])\n",
    "    plt.grid(True)\n",
    "    plt.show()"
   ]
  },
  {
   "cell_type": "code",
   "execution_count": 40,
   "metadata": {},
   "outputs": [
    {
     "name": "stdout",
     "output_type": "stream",
     "text": [
      "mean=30\n"
     ]
    },
    {
     "data": {
      "image/png": "[encoded data removed]",
      "text/plain": [
       "<Figure size 432x288 with 1 Axes>"
      ]
     },
     "metadata": {
      "needs_background": "light"
     },
     "output_type": "display_data"
    }
   ],
   "source": [
    "single_histogram(numbers_df['numbers'],'Frequency','Numbers',bins_=60)"
   ]
  },
  {
   "cell_type": "markdown",
   "metadata": {},
   "source": [
    "## Even and Odd Bar Chart:"
   ]
  },
  {
   "cell_type": "code",
   "execution_count": 41,
   "metadata": {},
   "outputs": [],
   "source": [
    "# Creating dummy\n",
    "numbers_df['is_even'] = np.where((numbers_df['numbers'] % 2 ==0),1,0)"
   ]
  },
  {
   "cell_type": "code",
   "execution_count": 46,
   "metadata": {},
   "outputs": [
    {
     "data": {
      "image/png": "[encoded data removed]",
      "text/plain": [
       "<Figure size 432x288 with 1 Axes>"
      ]
     },
     "metadata": {
      "needs_background": "light"
     },
     "output_type": "display_data"
    }
   ],
   "source": [
    "#Creating axis\n",
    "even = numbers_df['is_even'].value_counts()[1]\n",
    "odd = numbers_df['is_even'].value_counts()[0]\n",
    "even_pct = round(numbers_df['is_even'].value_counts(normalize=True)[1]*100,2)\n",
    "odd_pct = round(numbers_df['is_even'].value_counts(normalize=True)[0]*100,2)\n",
    "\n",
    "\n",
    "#Creating plot\n",
    "barlist = plt.bar(['Even','Odd'],[even_pct,odd_pct],color='b')\n",
    "plt.ylabel('% of Winning numbers')\n",
    "plt.title('Even vs Odd number frequency')\n",
    "plt.tight_layout()\n",
    "plt.xticks(fontsize=20)\n",
    "ax = plt.gca()\n",
    "mu = str(round(np.mean(numbers_df['is_even']),4))\n",
    "for i, v in enumerate([even_pct,odd_pct]):\n",
    "    ax.text(-0.1+i, 47 , str(v)+'%', color='k', fontweight='bold',fontsize=15)\n",
    "plt.show()\n"
   ]
  },
  {
   "cell_type": "markdown",
   "metadata": {},
   "source": [
    "## Dozens Bar Chart:"
   ]
  },
  {
   "cell_type": "code",
   "execution_count": 131,
   "metadata": {},
   "outputs": [],
   "source": [
    "#Creating dummies\n",
    "numbers_df['1to10'] = np.where((numbers_df['numbers'] > 0) & (numbers_df['numbers'] < 11),1,0)\n",
    "numbers_df['11to20'] = np.where((numbers_df['numbers'] > 10) & (numbers_df['numbers'] < 21),1,0)\n",
    "numbers_df['21to30'] = np.where((numbers_df['numbers'] > 20) & (numbers_df['numbers'] < 31),1,0)\n",
    "numbers_df['31to40'] = np.where((numbers_df['numbers'] > 30) & (numbers_df['numbers'] < 41),1,0)\n",
    "numbers_df['41to50'] = np.where((numbers_df['numbers'] > 40) & (numbers_df['numbers'] < 51),1,0)\n",
    "numbers_df['51to60'] = np.where((numbers_df['numbers'] > 50),1,0)"
   ]
  },
  {
   "cell_type": "code",
   "execution_count": 184,
   "metadata": {},
   "outputs": [
    {
     "data": {
      "text/plain": [
       "{'1to10': 17.02,\n",
       " '11to20': 16.42,\n",
       " '21to30': 16.34,\n",
       " '31to40': 16.88,\n",
       " '41to50': 16.59,\n",
       " '51to60': 16.75}"
      ]
     },
     "execution_count": 184,
     "metadata": {},
     "output_type": "execute_result"
    }
   ],
   "source": [
    "#Calculating proportion for each dozen\n",
    "dic_mean_dozens = {}\n",
    "for col in numbers_df:\n",
    "    if 'to' in col:\n",
    "        dic_mean_dozens.update({col : round(np.mean(numbers_df[col])*100,2)})\n",
    "dic_mean_dozens"
   ]
  },
  {
   "cell_type": "code",
   "execution_count": 199,
   "metadata": {},
   "outputs": [
    {
     "data": {
      "image/png": "[encoded data removed]",
      "text/plain": [
       "<Figure size 432x288 with 1 Axes>"
      ]
     },
     "metadata": {
      "needs_background": "light"
     },
     "output_type": "display_data"
    }
   ],
   "source": [
    "#Ploting results\n",
    "barlist = plt.bar(dic_mean_dozens.keys(),dic_mean_dozens.values(),color='b')\n",
    "plt.ylabel('% of Draws')\n",
    "plt.title('Interval Frequency')\n",
    "plt.xlabel('Number interval')\n",
    "plt.tight_layout()\n",
    "ax = plt.gca()\n",
    "for i, v in enumerate(dic_mean_dozens.values()):\n",
    "    ax.text(i-0.4, 17.1 , str(v)+'%', color='k', fontweight='bold')\n",
    "plt.show()\n"
   ]
  },
  {
   "cell_type": "markdown",
   "metadata": {},
   "source": [
    "### Most frequent Combinations"
   ]
  },
  {
   "cell_type": "code",
   "execution_count": 25,
   "metadata": {},
   "outputs": [],
   "source": [
    "import itertools"
   ]
  },
  {
   "cell_type": "code",
   "execution_count": 26,
   "metadata": {},
   "outputs": [],
   "source": [
    "#Creating dictonary for each draw\n",
    "dic_draw_numb = {}\n",
    "for index, row in df.iterrows():\n",
    "    actual_draw = []\n",
    "    for j, column in row.iteritems():\n",
    "        if j not in ['draw','date']:\n",
    "            actual_draw.append(column)\n",
    "    dic_draw_numb.update({int(row['draw']) : actual_draw})"
   ]
  },
  {
   "cell_type": "code",
   "execution_count": 28,
   "metadata": {
    "scrolled": true
   },
   "outputs": [],
   "source": [
    "# function to gererate n combinations given a lottery draw and add to a new df\n",
    "def add_comb_df(df,key,value,numb_comb):\n",
    "    combinations = itertools.combinations(value, numb_comb)\n",
    "    for comb in combinations:\n",
    "        if df.empty:\n",
    "            df.loc[1] = [key,comb]\n",
    "        else:\n",
    "            df.loc[max(df.index)+1] =  [key,comb]\n",
    "    return df"
   ]
  },
  {
   "cell_type": "code",
   "execution_count": 130,
   "metadata": {},
   "outputs": [],
   "source": [
    "# Creating most frequent 4 number combinations\n",
    "combinations_4numbs_df = pd.DataFrame(columns=[\"draw_number\",\"winning_numbers\"])\n",
    "for key,value in dic_draw_numb.items():\n",
    "    combinations_4numbs_df = add_comb_df(combinations_4numbs_df,key,value,4)\n",
    "\n",
    "# Printing most frequent 4 number combinations\n",
    "combinations_4numbs_df['winning_numbers'].value_counts().head(5)"
   ]
  },
  {
   "cell_type": "code",
   "execution_count": 31,
   "metadata": {},
   "outputs": [],
   "source": [
    "# Creating most frequent 3 number combinations\n",
    "combinations_3numbs_df = pd.DataFrame(columns=[\"draw_number\",\"winning_numbers\"])\n",
    "for key,value in dic_draw_numb.items():\n",
    "    combinations_3numbs_df = add_comb_df(combinations_3numbs_df,key,value,3)\n",
    "\n",
    "# Printing most frequent 3 number combinations\n",
    "combinations_3numbs_df['winning_numbers'].value_counts().head(10)"
   ]
  },
  {
   "cell_type": "code",
   "execution_count": 89,
   "metadata": {
    "scrolled": false
   },
   "outputs": [
    {
     "name": "stdout",
     "output_type": "stream",
     "text": [
      "1803 (26/03/2016) {4, 38, 8, 49, 50, 29}\n",
      "1708 (27/05/2015) {32, 38, 45, 17, 50, 29}\n",
      "1628 (20/08/2014) {34, 38, 50, 26, 60, 29}\n",
      "1425 (15/09/2012) {36, 38, 7, 16, 50, 29}\n",
      "1315 (31/08/2011) {1, 38, 50, 52, 27, 29}\n",
      "622 (08/12/2004) {38, 59, 50, 19, 27, 29}\n",
      "368 (08/06/2002) {32, 38, 44, 13, 50, 29}\n",
      "30 (29/09/1996) {38, 7, 14, 15, 50, 29}\n"
     ]
    }
   ],
   "source": [
    "#checking most frequent combination, draw dates\n",
    "for index in df.index:\n",
    "    numbers = []\n",
    "    numbers = set([x for x in df.loc[index] if type(x) is not str])\n",
    "    test_set = {29,38,50}\n",
    "    if len(numbers-test_set)==3:\n",
    "        print(df.loc[index,'draw'],df.loc[index,'date'],numbers)\n"
   ]
  }
 ],
 "metadata": {
  "kernelspec": {
   "display_name": "Python 3",
   "language": "python",
   "name": "python3"
  },
  "language_info": {
   "codemirror_mode": {
    "name": "ipython",
    "version": 3
   },
   "file_extension": ".py",
   "mimetype": "text/x-python",
   "name": "python",
   "nbconvert_exporter": "python",
   "pygments_lexer": "ipython3",
   "version": "3.7.0"
  }
 },
 "nbformat": 4,
 "nbformat_minor": 2
}
